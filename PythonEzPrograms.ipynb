{
 "cells": [
  {
   "cell_type": "code",
   "execution_count": 2,
   "metadata": {},
   "outputs": [
    {
     "name": "stdout",
     "output_type": "stream",
     "text": [
      "Palabra: arroz Numero: 5\n",
      "Palabra nueva :fwwte\n"
     ]
    }
   ],
   "source": [
    "#Sumar n letras a una palabra:\n",
    "word=input('Palabra: ')\n",
    "letter=list(word)\n",
    "number=int(input('Número: '))\n",
    "print('Palabra: '+ word+' Numero: '+ str(number))\n",
    "alfabeto=['a','b','c','d','e','f','g','h','i','j','k','l','m','n','o','p','q','r','s','t','u','v','w','x','y','z']\n",
    "total=len(letter)\n",
    "str2num=[]\n",
    "for i in range(0,total,1):\n",
    "    c=0\n",
    "    for j in alfabeto:\n",
    "        if letter[i]==j:\n",
    "            str2num.append(c)\n",
    "        c=c+1\n",
    "mod=[x+number for x in str2num]\n",
    "for h in range(0,len(mod)):\n",
    "    if mod[h]>len(alfabeto):\n",
    "        mod[h]=mod[h]-len(alfabeto)\n",
    "lastWord=[]\n",
    "for k in range(0,len(mod),1):\n",
    "    lastWord.append(alfabeto[mod[k]])\n",
    "FinalWord=''.join(lastWord)\n",
    "print('Palabra nueva :'+FinalWord)"
   ]
  }
 ],
 "metadata": {
  "interpreter": {
   "hash": "4bd8d5f4f34cca13af83a7de55daee1295a4a77e2a6bcb0acbf487b1e7a70bf0"
  },
  "kernelspec": {
   "display_name": "Python 3.10.2 ('DataAnalizingPackages': venv)",
   "language": "python",
   "name": "python3"
  },
  "language_info": {
   "codemirror_mode": {
    "name": "ipython",
    "version": 3
   },
   "file_extension": ".py",
   "mimetype": "text/x-python",
   "name": "python",
   "nbconvert_exporter": "python",
   "pygments_lexer": "ipython3",
   "version": "3.10.2"
  },
  "orig_nbformat": 4
 },
 "nbformat": 4,
 "nbformat_minor": 2
}
