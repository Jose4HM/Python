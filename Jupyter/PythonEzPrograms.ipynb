{
 "cells": [
  {
   "cell_type": "code",
   "execution_count": 1,
   "metadata": {},
   "outputs": [],
   "source": [
    "import math"
   ]
  },
  {
   "cell_type": "code",
   "execution_count": 11,
   "metadata": {},
   "outputs": [
    {
     "name": "stdout",
     "output_type": "stream",
     "text": [
      "Respuesta con k=0\n",
      "------------------\n",
      "(1.621+0.24j)\n",
      "+++++++++++++++++++\n",
      "Respuesta con k=1\n",
      "------------------\n",
      "(-0.24+1.621j)\n",
      "+++++++++++++++++++\n",
      "Respuesta con k=2\n",
      "------------------\n",
      "(-1.621-0.24j)\n",
      "+++++++++++++++++++\n",
      "Respuesta con k=3\n",
      "------------------\n",
      "(0.24-1.621j)\n",
      "+++++++++++++++++++\n"
     ]
    },
    {
     "data": {
      "image/png": "[encoded data removed]",
      "text/plain": [
       "<Figure size 432x288 with 1 Axes>"
      ]
     },
     "metadata": {
      "needs_background": "light"
     },
     "output_type": "display_data"
    }
   ],
   "source": [
    "#Calculadora de complejos\n",
    "#Las operaciones trigonometricas aquí trabajan con radianes\n",
    "#Importamos librerias\n",
    "import math\n",
    "import matplotlib.pyplot as plt\n",
    "import numpy as np\n",
    "#Registramos los valores del usuario, de debe ingresar un complejo como: a+bj\n",
    "number=complex(input(\"Ingresa el número complejo: \"))#Numero complejo\n",
    "orden=int(input(\"Orden de la raiz: \"))#Orden de la raiz\n",
    "k=orden#Limite para la iteracion\n",
    "if number.real==0:#Si la parte real es 0 se hacen excepciones para la indeterminacion\n",
    "    if number.imag==0:\n",
    "        theta=0\n",
    "    elif number.imag>0:\n",
    "        theta=math.pi/2\n",
    "    elif number.imag<0:\n",
    "        theta=3*math.pi/2\n",
    "else:\n",
    "    theta=math.atan(number.imag/number.real)#Thera calculada usando un arctg\n",
    "valor=[]#Array de respuestas\n",
    "#Bucle de iteracion\n",
    "for i in range(0,k,1):\n",
    "    r1=(abs(number)**(1/orden))*(math.cos((theta+2*i*math.pi)/(orden))+1j*math.sin((theta+2*i*math.pi)/(orden)))#Se calcula la rpta para cada valor de k\n",
    "    valor.append(np.around(r1,4))#Se añade la respuesta al vector de respuestas y se redondea, el numero despues de r1 indica la cantidad de decimales\n",
    "    print(\"Respuesta con k=\"+str(i))#Se imprime las respuestas\n",
    "    print(\"------------------\")\n",
    "    print(valor[i])\n",
    "    print(\"+++++++++++++++++++\")\n",
    "# Extraemos la parte real\n",
    "x = [index.real for index in valor]\n",
    "# Extraemos la parte imaginaria\n",
    "y = [index.imag for index in valor]\n",
    "ax = plt.gca()#Obtenemos las propiedades del plot\n",
    "# plot the complex numbers\n",
    "plt.scatter(x, y)#Ploteamos los puntos\n",
    "plt.plot(x,y,color='b',zorder=1)#Unimos los puntos\n",
    "plt.ylabel('Imaginary')#Rotulo de los ejes\n",
    "plt.xlabel('Real')\n",
    "plt.grid()#Activamos la grilla\n",
    "for i_x, i_y in zip(x, y):#Obtenemos los valores para punto\n",
    "    plt.text(i_x, i_y+0.02, '({}, j{})'.format(i_x, i_y))\n",
    "plt.axvline(x=0, c=\"red\")#Ploteamos los ejes del origen\n",
    "plt.axhline(y=0, c=\"red\")\n",
    "plt.title(\"Raices complejas de \"+str(number))#Añadimos titulos\n",
    "plt.show()#Mostramos la grafica"
   ]
  },
  {
   "cell_type": "code",
   "execution_count": null,
   "metadata": {},
   "outputs": [],
   "source": [
    "#Sumar n letras a una palabra:\n",
    "word=input('Palabra: ')\n",
    "letter=list(word)\n",
    "number=int(input('Número: '))\n",
    "print('Palabra: '+ word+' Numero: '+ str(number))\n",
    "alfabeto=['a','b','c','d','e','f','g','h','i','j','k','l','m','n','o','p','q','r','s','t','u','v','w','x','y','z']\n",
    "total=len(letter)\n",
    "str2num=[]\n",
    "for i in range(0,total,1):\n",
    "    c=0\n",
    "    for j in alfabeto:\n",
    "        if letter[i]==j:\n",
    "            str2num.append(c)\n",
    "        c=c+1\n",
    "mod=[x+number for x in str2num]\n",
    "for h in range(0,len(mod)):\n",
    "    if mod[h]>len(alfabeto):\n",
    "        mod[h]=mod[h]-len(alfabeto)\n",
    "lastWord=[]\n",
    "for k in range(0,len(mod),1):\n",
    "    lastWord.append(alfabeto[mod[k]])\n",
    "FinalWord=''.join(lastWord)\n",
    "print('Palabra nueva :'+FinalWord)"
   ]
  },
  {
   "cell_type": "code",
   "execution_count": null,
   "metadata": {},
   "outputs": [],
   "source": []
  }
 ],
 "metadata": {
  "kernelspec": {
   "display_name": "Python 3.10.2 64-bit",
   "language": "python",
   "name": "python3"
  },
  "language_info": {
   "codemirror_mode": {
    "name": "ipython",
    "version": 3
   },
   "file_extension": ".py",
   "mimetype": "text/x-python",
   "name": "python",
   "nbconvert_exporter": "python",
   "pygments_lexer": "ipython3",
   "version": "3.10.6"
  },
  "orig_nbformat": 4,
  "vscode": {
   "interpreter": {
    "hash": "afb734500600fd355917ca529030176ea0ca205570884b88f2f6f7d791fd3fbe"
   }
  }
 },
 "nbformat": 4,
 "nbformat_minor": 2
}
