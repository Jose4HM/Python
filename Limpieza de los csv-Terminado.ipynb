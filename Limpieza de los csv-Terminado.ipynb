{
 "cells": [
  {
   "cell_type": "markdown",
   "metadata": {},
   "source": [
    "# Pre-procesamiento"
   ]
  },
  {
   "cell_type": "markdown",
   "metadata": {},
   "source": [
    " Se empieza por la importación de la libreria pandas"
   ]
  },
  {
   "cell_type": "code",
   "execution_count": null,
   "metadata": {},
   "outputs": [],
   "source": [
    "import pandas as pd"
   ]
  },
  {
   "cell_type": "markdown",
   "metadata": {},
   "source": [
    " Se importa los csv's de la carpeta origen.\n",
    " Hay algunos que no necesitan limpieza, como es el caso de los dos primeros"
   ]
  },
  {
   "cell_type": "code",
   "execution_count": null,
   "metadata": {},
   "outputs": [],
   "source": [
    "L1=pd.read_csv(\"data/Csv's/Liga_1.csv\")\n",
    "#L1\n",
    "L1.to_csv(\"data/Limpios/Liga_1.csv\",index=False)#guardamos en un archivo csv "
   ]
  },
  {
   "cell_type": "code",
   "execution_count": null,
   "metadata": {},
   "outputs": [],
   "source": [
    "L2=pd.read_csv(\"data/Csv's/Liga_2.csv\")\n",
    "#L2\n",
    "L2.to_csv(\"data/Limpios/Liga_2.csv\",index=False)#guardamos en un archivo csv "
   ]
  },
  {
   "cell_type": "markdown",
   "metadata": {},
   "source": [
    " Hay casos en los cuales es necesario eliminar filas o columnas, en este caso tenemos que eliminar la fila número 0, con el comando drop. Otro error que hay es en los nombres, vemos que algunos llevan [n. 1], para ello usamos to_replace, usamos que busque [n. \\d*\\], porque queremos que elimine todos los corchetes pero no sabemos qué número hay dentro de ellos, para ese fin usamos n. que es lo común en todos y \\d*\\ que es cualquier número\n",
    " Por último, renombramos una columna con el comando rename\n"
   ]
  },
  {
   "cell_type": "code",
   "execution_count": null,
   "metadata": {},
   "outputs": [],
   "source": [
    "l3=pd.read_csv(\"data/Csv's/Liga_3.csv\")\n",
    "l3_1=l3.replace(to_replace ='\\[n. \\d*\\]', value = '', regex = True) #con esto quitamos lo corchetes\n",
    "l3_2=l3_1.drop([0], axis=0) #borramos fila no deseanda\n",
    "L3=l3_2.rename(columns={'Jornada':'Equipo/Jornada'})#Cambio de una columna\n",
    "#L3\n",
    "L3.to_csv(\"data/Limpios/Liga_3.csv\",index=False)#guardamos en un archivo csv "
   ]
  },
  {
   "cell_type": "markdown",
   "metadata": {},
   "source": [
    " En este sucede que tenemos que eliminar la primera columna y la última fila, para ello usamos el comando drop, especificando el número y nombre de la fila y columna respectivamente, nótese que axis=0 es para indicar fila y axis=1 para las columnas"
   ]
  },
  {
   "cell_type": "code",
   "execution_count": null,
   "metadata": {},
   "outputs": [],
   "source": [
    "l4=pd.read_csv(\"data/Csv's/Liga_4.csv\")\n",
    "a=l4.replace(to_replace ='\\[n. \\d*\\]', value = '', regex = True) #con esto quitamos lo corchetes\n",
    "b=a.drop([18], axis=0) #eliminar fila\n",
    "L4=b.drop(['Unnamed: 0'], axis=1) #eliminar columna\n",
    "l4\n",
    "#L4.to_csv(\"data/Limpios/Liga_4.csv\",index=False)#guardamos en un archivo csv "
   ]
  },
  {
   "cell_type": "code",
   "execution_count": null,
   "metadata": {},
   "outputs": [],
   "source": [
    "l5=pd.read_csv(\"data/Csv's/Liga_5.csv\")\n",
    "L5=l5.replace(to_replace ='\\[n. \\d*\\]', value = '', regex = True) #con esto quitamos lo corchetes\n",
    "#L5=b.drop(['Clasificado a'], axis=1) #eliminar columna\n",
    "del L5['Clasificado a']\n",
    "L5.to_csv(\"data/Limpios/Liga_5.csv\",index=False)#guardamos en un archivo csv \n"
   ]
  },
  {
   "cell_type": "markdown",
   "metadata": {},
   "source": [
    " También hubo casos en donde teníamos que eliminar varias columnas, usamos los métodos anteriores, con el comando drop y usando el primer argumento las columnas y sus posiciones"
   ]
  },
  {
   "cell_type": "code",
   "execution_count": null,
   "metadata": {},
   "outputs": [],
   "source": [
    "l6=pd.read_csv(\"data/Csv's/Liga_6.csv\")\n",
    "a=l6.drop(l6.columns[[4,5,6,7,8,9]], axis='columns') #eliminar columna\n",
    "L6=a.drop([12], axis=0)\n",
    "#L6.to_csv(\"data/Limpios/Liga_6.csv\",index=False)\n",
    "l6"
   ]
  },
  {
   "cell_type": "code",
   "execution_count": null,
   "metadata": {},
   "outputs": [],
   "source": [
    "l7=pd.read_csv(\"data/Csv's/Liga_7.csv\")\n",
    "a=l7.drop(l7.columns[[4,5,6,7,8,9]], axis='columns') #eliminar columna\n",
    "L7=a.drop([10], axis=0)\n",
    "L7.to_csv(\"data/Limpios/Liga_7.csv\",index=False)"
   ]
  },
  {
   "cell_type": "code",
   "execution_count": null,
   "metadata": {},
   "outputs": [],
   "source": [
    "l8=pd.read_csv(\"data/Csv's/Liga_8.csv\")\n",
    "a=l8.drop(l8.columns[[5,6,7,8,9]], axis='columns') #eliminar columna\n",
    "L8=a.drop([18], axis=0)\n",
    "L8.to_csv(\"data/Limpios/Liga_8.csv\",index=False)"
   ]
  },
  {
   "cell_type": "code",
   "execution_count": null,
   "metadata": {},
   "outputs": [],
   "source": [
    "l9=pd.read_csv(\"data/Csv's/Liga_9.csv\")\n",
    "a=l9.drop(l9.columns[[4,5,6,7,8,9]], axis='columns') #eliminar columna\n",
    "L9=a.drop([15], axis=0)\n",
    "L9.to_csv(\"data/Limpios/Liga_9.csv\",index=False)"
   ]
  },
  {
   "cell_type": "markdown",
   "metadata": {},
   "source": [
    " El problema en el último era que los nombres tienen un corchete con un numero al interior, usamos la función replace como en los anteriores casos, buscando corchetes con un elemento tipo int, y se reemplazara con ' ', usando el regex para interpretarlo como un string el to.replace"
   ]
  },
  {
   "cell_type": "code",
   "execution_count": null,
   "metadata": {},
   "outputs": [],
   "source": [
    "l10=pd.read_csv(\"data/Csv's/Liga_10.csv\")\n",
    "L10=l10.replace(to_replace ='\\[\\d*\\]', value = '', regex = True) #con esto quitamos lo corchetes\n",
    "L10.to_csv(\"data/Limpios/Liga_10.csv\",index=False)#guardamos en un archivo csv \n",
    "l10"
   ]
  },
  {
   "cell_type": "code",
   "execution_count": null,
   "metadata": {},
   "outputs": [],
   "source": []
  }
 ],
 "metadata": {
  "kernelspec": {
   "display_name": "Python 3",
   "language": "python",
   "name": "python3"
  },
  "language_info": {
   "codemirror_mode": {
    "name": "ipython",
    "version": 3
   },
   "file_extension": ".py",
   "mimetype": "text/x-python",
   "name": "python",
   "nbconvert_exporter": "python",
   "pygments_lexer": "ipython3",
   "version": "3.8.3"
  }
 },
 "nbformat": 4,
 "nbformat_minor": 4
}
